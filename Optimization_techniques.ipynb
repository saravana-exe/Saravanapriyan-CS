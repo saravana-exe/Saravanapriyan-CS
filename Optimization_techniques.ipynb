{
  "nbformat": 4,
  "nbformat_minor": 0,
  "metadata": {
    "colab": {
      "provenance": [],
      "authorship_tag": "ABX9TyO2IhD2YKjZOCySrATsMRhz",
      "include_colab_link": true
    },
    "kernelspec": {
      "name": "python3",
      "display_name": "Python 3"
    },
    "language_info": {
      "name": "python"
    }
  },
  "cells": [
    {
      "cell_type": "markdown",
      "metadata": {
        "id": "view-in-github",
        "colab_type": "text"
      },
      "source": [
        "<a href=\"https://colab.research.google.com/github/saravana-exe/Saravanapriyan-CS/blob/main/Optimization_techniques.ipynb\" target=\"_parent\"><img src=\"https://colab.research.google.com/assets/colab-badge.svg\" alt=\"Open In Colab\"/></a>"
      ]
    },
    {
      "cell_type": "code",
      "execution_count": 5,
      "metadata": {
        "colab": {
          "base_uri": "https://localhost:8080/"
        },
        "id": "4MkgPUAtLB2J",
        "outputId": "7ddffb76-f201-4086-f1e0-fdddb8276f36"
      },
      "outputs": [
        {
          "output_type": "stream",
          "name": "stdout",
          "text": [
            "Optimal assignment of workers to job\n",
            "Worker 1->2\n",
            "Worker 2->1\n",
            "Worker 3->3\n",
            "Worker 4->4\n",
            "Minimum total cost: 13\n"
          ]
        }
      ],
      "source": [
        "from scipy.optimize import linear_sum_assignment\n",
        "import numpy as np\n",
        "cost_matrix=np.array ([\n",
        "    [9,2,7,8],\n",
        "    [6,4,3,7],\n",
        "    [5,8,1,8],\n",
        "    [7,6,9,4],\n",
        "])\n",
        "row_ind,col_ind=linear_sum_assignment(cost_matrix)\n",
        "print(\"Optimal assignment of workers to job\")\n",
        "for worker,job in zip(row_ind,col_ind):\n",
        "    print(f\"Worker {worker+1}->{job+1}\")\n",
        "min_total_cost=cost_matrix[row_ind,col_ind].sum()\n",
        "print(f\"Minimum total cost: {min_total_cost}\")"
      ]
    },
    {
      "cell_type": "code",
      "source": [
        "from scipy.optimize import linear_sum_assignment\n",
        "import numpy as np\n",
        "cost_matrix=np.array([\n",
        "    [9,2,7,8],\n",
        "    [6,4,3,7],\n",
        "    [5,8,1,8],\n",
        "    [7,6,9,4],\n",
        "    [4,3,8,2]\n",
        "])\n",
        "rows,cols=cost_matrix.shape\n",
        "if rows>cols:\n",
        "  cost_matrix=np.hstack((cost_matrix,np.zeros((rows,rows-cols))))\n",
        "elif cols>rows:\n",
        "  cost_matrix=np.vstack((cost_matrix,np.zeros((rows-cols,cols))))\n",
        "row_ind,col_ind=linear_sum_assignment(cost_matrix)\n",
        "print(\"Optimal assignment of workers to job\")\n",
        "for worker , job in zip (row_ind,col_ind):\n",
        "  if job<cols:\n",
        "    print(f\"Worker {worker+1}->{job+1}\")\n",
        "  else:\n",
        "    print(f\"Worker {worker+1}->Dummy Job\")\n",
        "min_total_cost=cost_matrix[row_ind,col_ind].sum()\n",
        "print(f\"Minimum total cost: {min_total_cost}\")"
      ],
      "metadata": {
        "colab": {
          "base_uri": "https://localhost:8080/"
        },
        "id": "HOoGkEJnTFnF",
        "outputId": "b541e704-d24a-42bf-e521-0b7729d6c85f"
      },
      "execution_count": 8,
      "outputs": [
        {
          "output_type": "stream",
          "name": "stdout",
          "text": [
            "Optimal assignment of workers to job\n",
            "Worker 1->2\n",
            "Worker 2->Dummy Job\n",
            "Worker 3->3\n",
            "Worker 4->4\n",
            "Worker 5->1\n",
            "Minimum total cost: 11.0\n"
          ]
        }
      ]
    },
    {
      "cell_type": "code",
      "source": [
        "from scipy.optimize import linear_sum_assignment\n",
        "import numpy as np\n",
        "cost_matrix=np.array ([\n",
        "    [9,3,6,8,7,4],\n",
        "    [5,7,9,4,3,6],\n",
        "    [6,4,8,7,9,5],\n",
        "    [8,6,5,3,4,7],\n",
        "    [4,5,7,9,8,3],\n",
        "    [7,9,4,6,5,8]\n",
        "])\n",
        "row_ind,col_ind=linear_sum_assignment(cost_matrix)\n",
        "print(\"Optimal assignment of workers to job\")\n",
        "for worker,job in zip(row_ind,col_ind):\n",
        "    print(f\"Worker {worker+1}->{job+1}\")\n",
        "min_total_cost=cost_matrix[row_ind,col_ind].sum()\n",
        "print(f\"Minimum total cost: {min_total_cost}\")"
      ],
      "metadata": {
        "colab": {
          "base_uri": "https://localhost:8080/"
        },
        "id": "QDCdeM-vUmIT",
        "outputId": "8bb0dd04-83e1-45df-8b80-31dfc3871b76"
      },
      "execution_count": 9,
      "outputs": [
        {
          "output_type": "stream",
          "name": "stdout",
          "text": [
            "Optimal assignment of workers to job\n",
            "Worker 1->2\n",
            "Worker 2->5\n",
            "Worker 3->6\n",
            "Worker 4->4\n",
            "Worker 5->1\n",
            "Worker 6->3\n",
            "Minimum total cost: 22\n"
          ]
        }
      ]
    },
    {
      "cell_type": "code",
      "source": [
        "from scipy.optimize import linear_sum_assignment\n",
        "import numpy as np\n",
        "cost_matrix=np.array ([\n",
        "    [6,9,4,7,8,5,3],\n",
        "    [7,4,8,6,9,3,5],\n",
        "    [8,6,9,5,4,7,3],\n",
        "    [9,8,6,3,5,7,4],\n",
        "    [5,7,3,9,6,4,8],\n",
        "    [4,5,7,8,3,9,6],\n",
        "    [3,6,5,4,7,8,9]\n",
        "])\n",
        "row_ind,col_ind=linear_sum_assignment(cost_matrix)\n",
        "print(\"Optimal assignment of workers to job\")\n",
        "for worker,job in zip(row_ind,col_ind):\n",
        "    print(f\"Worker {worker+1}->{job+1}\")\n",
        "min_total_cost=cost_matrix[row_ind,col_ind].sum()\n",
        "print(f\"Minimum total cost: {min_total_cost}\")"
      ],
      "metadata": {
        "colab": {
          "base_uri": "https://localhost:8080/"
        },
        "id": "mFc10Hk_WGeA",
        "outputId": "962b1d09-bfa0-4d88-fa8a-d81f86c0adbd"
      },
      "execution_count": 10,
      "outputs": [
        {
          "output_type": "stream",
          "name": "stdout",
          "text": [
            "Optimal assignment of workers to job\n",
            "Worker 1->7\n",
            "Worker 2->6\n",
            "Worker 3->5\n",
            "Worker 4->4\n",
            "Worker 5->3\n",
            "Worker 6->2\n",
            "Worker 7->1\n",
            "Minimum total cost: 24\n"
          ]
        }
      ]
    },
    {
      "cell_type": "code",
      "source": [
        "from scipy.optimize import linear_sum_assignment\n",
        "import numpy as np\n",
        "cost_matrix=np.array([\n",
        "    [7,3,8,6],\n",
        "    [5,6,4,7],\n",
        "    [9,8,6,5],\n",
        "    [4,5,7,3],\n",
        "    [8,6,9,4],\n",
        "    [3,4,5,6]\n",
        "])\n",
        "rows,cols=cost_matrix.shape\n",
        "if rows>cols:\n",
        "  cost_matrix=np.hstack((cost_matrix,np.zeros((rows,rows-cols))))\n",
        "elif cols>rows:\n",
        "  cost_matrix=np.vstack((cost_matrix,np.zeros((cols-rows,cols))))\n",
        "row_ind,col_ind=linear_sum_assignment(cost_matrix)\n",
        "print(\"Optimal assignment of workers to job\")\n",
        "for worker , job in zip (row_ind,col_ind):\n",
        "  if job<cols:\n",
        "    print(f\"Worker {worker+1}->{job+1}\")\n",
        "  else:\n",
        "    print(f\"Worker {worker+1}->Dummy Job\")\n",
        "min_total_cost=cost_matrix[row_ind,col_ind].sum()\n",
        "print(f\"Minimum total cost: {min_total_cost}\")"
      ],
      "metadata": {
        "colab": {
          "base_uri": "https://localhost:8080/"
        },
        "id": "Gl-ATffPWr8t",
        "outputId": "2bee5c31-7470-442e-87e6-86af6086b42c"
      },
      "execution_count": 14,
      "outputs": [
        {
          "output_type": "stream",
          "name": "stdout",
          "text": [
            "Optimal assignment of workers to job\n",
            "Worker 1->2\n",
            "Worker 2->3\n",
            "Worker 3->Dummy Job\n",
            "Worker 4->4\n",
            "Worker 5->Dummy Job\n",
            "Worker 6->1\n",
            "Minimum total cost: 13.0\n"
          ]
        }
      ]
    },
    {
      "cell_type": "code",
      "source": [],
      "metadata": {
        "id": "jfzlAJheX-tx"
      },
      "execution_count": null,
      "outputs": []
    },
    {
      "cell_type": "code",
      "source": [
        "from scipy.optimize import linear_sum_assignment\n",
        "import numpy as np\n",
        "cost_matrix=np.array([\n",
        "    [6,9,4,7,8,5],\n",
        "    [7,4,8,6,9,3],\n",
        "    [5,6,7,3,4,8],\n",
        "    [8,6,9,5,3,4]\n",
        "])\n",
        "rows,cols=cost_matrix.shape\n",
        "if rows>cols:\n",
        "  cost_matrix=np.hstack((cost_matrix,np.zeros((rows,rows-cols))))\n",
        "elif cols>rows:\n",
        "  cost_matrix=np.vstack((cost_matrix,np.zeros((rows-cols,cols))))\n",
        "row_ind,col_ind=linear_sum_assignment(cost_matrix)\n",
        "print(\"Optimal assignment of workers to job\")\n",
        "for worker , job in zip (row_ind,col_ind):\n",
        "  if worker<rows:\n",
        "    print(f\"Worker {worker+1}->{job+1}\")\n",
        "  else:\n",
        "    print(f\"Worker {worker+1}->Dummy Job\")\n",
        "min_total_cost=cost_matrix[row_ind,col_ind].sum()\n",
        "print(f\"Minimum total cost: {min_total_cost}\")"
      ],
      "metadata": {
        "colab": {
          "base_uri": "https://localhost:8080/",
          "height": 211
        },
        "id": "pUmFPQ7_XNGx",
        "outputId": "18b4e239-270c-4d61-f7fe-ed2fc4439ce4"
      },
      "execution_count": 13,
      "outputs": [
        {
          "output_type": "error",
          "ename": "ValueError",
          "evalue": "negative dimensions are not allowed",
          "traceback": [
            "\u001b[0;31m---------------------------------------------------------------------------\u001b[0m",
            "\u001b[0;31mValueError\u001b[0m                                Traceback (most recent call last)",
            "\u001b[0;32m<ipython-input-13-5016bddebded>\u001b[0m in \u001b[0;36m<cell line: 0>\u001b[0;34m()\u001b[0m\n\u001b[1;32m     11\u001b[0m   \u001b[0mcost_matrix\u001b[0m\u001b[0;34m=\u001b[0m\u001b[0mnp\u001b[0m\u001b[0;34m.\u001b[0m\u001b[0mhstack\u001b[0m\u001b[0;34m(\u001b[0m\u001b[0;34m(\u001b[0m\u001b[0mcost_matrix\u001b[0m\u001b[0;34m,\u001b[0m\u001b[0mnp\u001b[0m\u001b[0;34m.\u001b[0m\u001b[0mzeros\u001b[0m\u001b[0;34m(\u001b[0m\u001b[0;34m(\u001b[0m\u001b[0mrows\u001b[0m\u001b[0;34m,\u001b[0m\u001b[0mrows\u001b[0m\u001b[0;34m-\u001b[0m\u001b[0mcols\u001b[0m\u001b[0;34m)\u001b[0m\u001b[0;34m)\u001b[0m\u001b[0;34m)\u001b[0m\u001b[0;34m)\u001b[0m\u001b[0;34m\u001b[0m\u001b[0;34m\u001b[0m\u001b[0m\n\u001b[1;32m     12\u001b[0m \u001b[0;32melif\u001b[0m \u001b[0mcols\u001b[0m\u001b[0;34m>\u001b[0m\u001b[0mrows\u001b[0m\u001b[0;34m:\u001b[0m\u001b[0;34m\u001b[0m\u001b[0;34m\u001b[0m\u001b[0m\n\u001b[0;32m---> 13\u001b[0;31m   \u001b[0mcost_matrix\u001b[0m\u001b[0;34m=\u001b[0m\u001b[0mnp\u001b[0m\u001b[0;34m.\u001b[0m\u001b[0mvstack\u001b[0m\u001b[0;34m(\u001b[0m\u001b[0;34m(\u001b[0m\u001b[0mcost_matrix\u001b[0m\u001b[0;34m,\u001b[0m\u001b[0mnp\u001b[0m\u001b[0;34m.\u001b[0m\u001b[0mzeros\u001b[0m\u001b[0;34m(\u001b[0m\u001b[0;34m(\u001b[0m\u001b[0mrows\u001b[0m\u001b[0;34m-\u001b[0m\u001b[0mcols\u001b[0m\u001b[0;34m,\u001b[0m\u001b[0mcols\u001b[0m\u001b[0;34m)\u001b[0m\u001b[0;34m)\u001b[0m\u001b[0;34m)\u001b[0m\u001b[0;34m)\u001b[0m\u001b[0;34m\u001b[0m\u001b[0;34m\u001b[0m\u001b[0m\n\u001b[0m\u001b[1;32m     14\u001b[0m \u001b[0mrow_ind\u001b[0m\u001b[0;34m,\u001b[0m\u001b[0mcol_ind\u001b[0m\u001b[0;34m=\u001b[0m\u001b[0mlinear_sum_assignment\u001b[0m\u001b[0;34m(\u001b[0m\u001b[0mcost_matrix\u001b[0m\u001b[0;34m)\u001b[0m\u001b[0;34m\u001b[0m\u001b[0;34m\u001b[0m\u001b[0m\n\u001b[1;32m     15\u001b[0m \u001b[0mprint\u001b[0m\u001b[0;34m(\u001b[0m\u001b[0;34m\"Optimal assignment of workers to job\"\u001b[0m\u001b[0;34m)\u001b[0m\u001b[0;34m\u001b[0m\u001b[0;34m\u001b[0m\u001b[0m\n",
            "\u001b[0;31mValueError\u001b[0m: negative dimensions are not allowed"
          ]
        }
      ]
    }
  ]
}